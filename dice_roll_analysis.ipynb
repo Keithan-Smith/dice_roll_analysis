{
 "cells": [
  {
   "cell_type": "markdown",
   "metadata": {},
   "source": [
    "## Assignment 1\n",
    "\n",
    "A number of students are asked to roll a six-sided dice several times. The variable orig_data_list is a list containing the outcomes of these rolls. Each entry in the list corresponds to a student. For example, when orig_data_list is of the form: [[3,4,2,6], [1,8,2,5], [4,3,2,3], [5,2,6,3], [2,nan, 5,1], [1,1,2,5]] we know that six students rolled a dice four times each. The first student rolled a 3, 4, 2 and 6. Note that some entries are nan and others are outside of the range 1-6 to reflect inaccuracies in the data collection process. Your task is to analyse properties of this list. \n",
    "- A list of functions that may be helpful include the following: • all, dict, len, list, print, range, round, sorted, str • dict.keys(), dict.values(), dict.get()\n",
    "\n",
    "**Note:**\n",
    "\n",
    "  - You may **not** load additional libraries such as numpy\n",
    "  "
   ]
  },
  {
   "cell_type": "markdown",
   "metadata": {},
   "source": [
    "# Question 2"
   ]
  },
  {
   "cell_type": "code",
   "execution_count": 1,
   "metadata": {},
   "outputs": [],
   "source": [
    "import random\n",
    "random.seed(1234)\n",
    "numThrows=100\n",
    "numStudents=80\n",
    "\n",
    "#Identify students and throws with NA values\n",
    "numNA=13\n",
    "na_students=[1]+random.choices(list(range(1,numStudents+1)),k=numNA-1)\n",
    "na_throws=random.choices(list(range(1,numThrows+1)), k=numNA)\n",
    "\n",
    "#Identify students and throws with out-of-bound values\n",
    "numOB=4\n",
    "ob_students=random.choices(list(range(1,numStudents+1)), k=numOB)\n",
    "ob_throws=random.choices(list(range(1,numThrows+1)), k=numOB)\n",
    "\n",
    "#Randomly generate throws for each student\n",
    "probs=[1,1,1,2,2,2]\n",
    "vec=list(range(1,7))\n",
    "numThrows2=round(numThrows/2)\n",
    "orig_data_list=[random.choices(vec,k=numThrows2)+random.choices(vec,weights=probs, k=numThrows2) for i in range(0,numStudents)]\n",
    "\n",
    "#Assign NA values\n",
    "for j in range(0,numNA):\n",
    "    studentID=na_students[j]\n",
    "    throwID=na_throws[j]\n",
    "    orig_data_list[studentID-1][throwID-1]=float('nan')\n",
    "    \n",
    "#Assign out of bound values  - note that these may overwrite NA values \n",
    "for k in range(0,numOB):\n",
    "    studentID=ob_students[k]\n",
    "    throwID=ob_throws[k]\n",
    "    orig_data_list[studentID-1][throwID-1]=random.choice([-1,0,7])"
   ]
  },
  {
   "cell_type": "markdown",
   "metadata": {},
   "source": [
    "## A"
   ]
  },
  {
   "cell_type": "markdown",
   "metadata": {},
   "source": [
    "- Create a dictionary, called orig_data_dic, where the keys are the student IDs and the values are lists corresponding to the dice rolls of each student. \n",
    "- Do not modify the order of the rolls or the students. The student IDs should be of the form student1, student2, … where the number corresponds to the respective entry of orig_data_list. \n",
    "- Print the first 3 dice rolls for the first student."
   ]
  },
  {
   "cell_type": "code",
   "execution_count": 2,
   "metadata": {},
   "outputs": [
    {
     "name": "stdout",
     "output_type": "stream",
     "text": [
      "student1: [6, 3, 4]\n"
     ]
    }
   ],
   "source": [
    "num_students = len(orig_data_list)\n",
    "# Create dictionary\n",
    "orig_data_dic = {}\n",
    "\n",
    "# Alternative method to create dictionary:\n",
    "#orig_data_dic = dict()\n",
    "\n",
    "\n",
    "# Method 1 - using loops\n",
    "for i in range(num_students):\n",
    "    id_str = 'student' + str(i+1);\n",
    "    orig_data_dic[id_str] = orig_data_list[i]\n",
    "\n",
    "#Method 2 - using comprehensions\n",
    "#\n",
    "orig_data_dic={\"student\"+str(i+1):orig_data_list[i] for i in range(0,num_students)}\n",
    "\n",
    "# print first student's first three rolls\n",
    "id_first = 'student1' \n",
    "#print(id_first, ': ', str(orig_data_dic[id_first][:3]) )\n",
    "print(id_first, ': ', orig_data_dic.get(id_first)[0:3], sep='')"
   ]
  },
  {
   "cell_type": "markdown",
   "metadata": {},
   "source": [
    "## B"
   ]
  },
  {
   "cell_type": "markdown",
   "metadata": {},
   "source": [
    "## B(i)\n",
    "- Print the number of students contained in the dataset orig_data_list. Assuming each student performs an equal number of rolls, print the number of rolls performed by each student."
   ]
  },
  {
   "cell_type": "code",
   "execution_count": 3,
   "metadata": {},
   "outputs": [
    {
     "name": "stdout",
     "output_type": "stream",
     "text": [
      "Number of students: 80\n",
      "Number of rolls: 100\n"
     ]
    }
   ],
   "source": [
    "num_students = len(orig_data_list)\n",
    "print(\"Number of students:\", num_students)\n",
    "\n",
    "# number of rolls for all assumed to be same as number of rolls for first student\n",
    "num_rolls = len(orig_data_list[0])\n",
    "print(\"Number of rolls:\", num_rolls)"
   ]
  },
  {
   "cell_type": "markdown",
   "metadata": {},
   "source": [
    "## B(ii)\n",
    "- We say that a student contains an inaccurate entry if they have a recorded value equal to nan or outside of the range 1-6. Identify the students with at least one inaccurate entry. Print the IDs of these students in numerical order from lowest to highest. Print the number of students with no inaccurate entries."
   ]
  },
  {
   "cell_type": "code",
   "execution_count": 4,
   "metadata": {},
   "outputs": [
    {
     "name": "stdout",
     "output_type": "stream",
     "text": [
      "Students with at least one inaccurate entry:  ['student1', 'student3', 'student7', 'student8', 'student19', 'student22', 'student36', 'student45', 'student47', 'student54', 'student62', 'student64', 'student73', 'student76', 'student78'] \n",
      "\n",
      "Number of students with no inaccurate entries:  65\n"
     ]
    }
   ],
   "source": [
    "## Solution 1: create function yo check for inaccurate throw\n",
    "import math as math\n",
    "def contains_inaccurate_throw(throws):\n",
    "    '''Determines whether or not a list of throws contains an inaccurate entry\n",
    "       An entry is inaccurate if it is nan, or less than 1 or greater than 6.\n",
    "       Args:\n",
    "           throws: list of integers\n",
    "       Returns:\n",
    "           True if contains an inaccurate entry, False otherwise.\n",
    "    '''\n",
    "    # starts off by assuming no inaccurate entries\n",
    "    is_inaccurate = False\n",
    "    for i in range(len(throws)):\n",
    "        if math.isnan(throws[i]):\n",
    "            is_inaccurate = True\n",
    "            break\n",
    "        else:\n",
    "            if (throws[i] < 1) or (throws[i] > 6):\n",
    "                is_inaccurate = True\n",
    "                break\n",
    "    return(is_inaccurate)\n",
    "\n",
    "# start off with empty list\n",
    "inaccurate_students = []\n",
    "num_students = len(orig_data_dic)\n",
    "\n",
    "# run through students and their throws\n",
    "for idstr, throw in orig_data_dic.items():\n",
    "    if contains_inaccurate_throw(throw):\n",
    "        inaccurate_students.append(idstr)\n",
    "\n",
    "# print desired output\n",
    "print(\"Students with at least one inaccurate entry: \", inaccurate_students, \"\\n\")\n",
    "num_accurate_students = num_students - len(inaccurate_students)\n",
    "print(\"Number of students with no inaccurate entries: \", num_accurate_students)\n",
    "\n",
    "\n",
    "\n",
    "## Solution 2: more compact, check if each throw is 1, 2, 3, 4, 5 or 6\n",
    "inaccurate_students2=[]\n",
    "#loop through students\n",
    "for j in orig_data_dic.keys(): \n",
    "    #find students with entries not in set {1,2,3,4,5,6}\n",
    "    if not all(x in [1,2,3,4,5,6] for x in orig_data_dic[j]): \n",
    "       inaccurate_students2+=[j]\n",
    "\n",
    "#number of students with complete entries\n",
    "num_complete_entries=num_students-len(inaccurate_students2) \n",
    "\n",
    "#print(\"\\n\\n\")\n",
    "#print(\"Students with at least one inaccurate entry:\", ID_inacc_entries, \"\\n\")\n",
    "#print(\"Number of students with no inaccurate entries:\",num_complete_entries )\n",
    "    \n"
   ]
  },
  {
   "cell_type": "code",
   "execution_count": 5,
   "metadata": {},
   "outputs": [
    {
     "name": "stdout",
     "output_type": "stream",
     "text": [
      "True\n",
      "True\n"
     ]
    }
   ],
   "source": [
    "mynan = float('nan')\n",
    "import math as math\n",
    "print(math.isnan(mynan))\n",
    "print(mynan!=mynan)"
   ]
  },
  {
   "cell_type": "markdown",
   "metadata": {},
   "source": [
    "# B(iii)\n",
    "- Create a new dictionary called complete_data_dic containing only the students in orig_data_dic with no inaccurate entries. Print the first 3 dice rolls of the student with the lowest ID in complete_data_dic.\n"
   ]
  },
  {
   "cell_type": "code",
   "execution_count": 6,
   "metadata": {},
   "outputs": [
    {
     "name": "stdout",
     "output_type": "stream",
     "text": [
      "student2: [1, 2, 1]\n"
     ]
    }
   ],
   "source": [
    "# Method 1 - using loops\n",
    "complete_data_dic=dict()\n",
    "for k in orig_data_dic.keys():\n",
    "    if k not in inaccurate_students: #extract only complete entries from orig_data_dic\n",
    "        complete_data_dic[k]=orig_data_dic[k]\n",
    "\n",
    "# Method 2 - using loops and deleting\n",
    "# create dictionary, initially same as original\n",
    "complete_data_dic2 = orig_data_dic.copy()\n",
    "\n",
    "# run through entries in complete_data_dic, deleting as appropriate\n",
    "for student in complete_data_dic2.copy():\n",
    "    if student in inaccurate_students:\n",
    "        del(complete_data_dic2[student])\n",
    "\n",
    "# Method 3 - using comprehensions\n",
    "complete_data_dic3={k:orig_data_dic[k] for k in orig_data_dic.keys() if k not in inaccurate_students } #extract only complete entries from orig_data_dic\n",
    "\n",
    "#find ID of first student with complete entries\n",
    "first_accurate_student=list(complete_data_dic.keys())[0] \n",
    "print(first_accurate_student, \": \", orig_data_dic.get(first_accurate_student)[0:3:1], sep='')\n"
   ]
  },
  {
   "cell_type": "markdown",
   "metadata": {},
   "source": [
    "# C\n",
    "- Two dice were used throughout the rolls: dice A and dice B. Each student used dice A for their first 50% of rolls and dice B for their last 50% of rolls. \n",
    "- Create a dictionary called diceA_dic where the keys are the numbers 1-6 and the values are the proportion of times each value 1-6 was rolled by dice A (note that you should combine the rolls across students). Use only the data in complete_data_dic. The results should be rounded to two decimal places. \n",
    "- Print the dictionary. Obtain and print similar values for dice B. Comment on the fairness of each dice."
   ]
  },
  {
   "cell_type": "code",
   "execution_count": 7,
   "metadata": {},
   "outputs": [
    {
     "name": "stdout",
     "output_type": "stream",
     "text": [
      "Proportions for dice A:\n",
      "{1: 0.16, 2: 0.17, 3: 0.16, 4: 0.18, 5: 0.16, 6: 0.17}\n",
      "\n",
      "Proportions for dice B:\n",
      "{1: 0.1, 2: 0.1, 3: 0.12, 4: 0.22, 5: 0.23, 6: 0.22}\n",
      "\n",
      "Dice A seems to be fair, since the proportion for most numbers is close to 1/6.\n",
      "\n",
      "Dice B seems to be NOT fair, since the proportions for 1, 2 and 3 are around 0.1, \n",
      "       while the proportions for the larger numbers 4, 5 and 6 are all greater than 0.2.\n"
     ]
    }
   ],
   "source": [
    "# create vectors containing rolls for A and B\n",
    "diceA_rolls = []\n",
    "diceB_rolls = []\n",
    "\n",
    "# go through rolls, appending first half to diceA_rolls and second half to diceB_rolls\n",
    "for roll in complete_data_dic.values():\n",
    "    # integer division; get midpoint for rolls\n",
    "    mid = len(roll)//2\n",
    "    # append first half of rolls to diceA_rolls\n",
    "    diceA_rolls += roll[:mid]\n",
    "    # append second half of rolls to diceB_rolls    \n",
    "    diceB_rolls += roll[mid:]\n",
    "    \n",
    "# create dictionary of counts for diceA_rolls\n",
    "diceA_props = {}\n",
    "diceB_props = {}\n",
    "for roll in range(1, 7):\n",
    "    # compute proportions by first counting, then dividing by total, and rounding to 2 places\n",
    "    diceA_props[roll] = round(diceA_rolls.count(roll) / len(diceA_rolls), 2)\n",
    "    diceB_props[roll] = round(diceB_rolls.count(roll) / len(diceB_rolls), 2)\n",
    "\n",
    "\n",
    "print(\"Proportions for dice A:\")\n",
    "print(diceA_props)\n",
    "\n",
    "print(\"\\nProportions for dice B:\")\n",
    "print(diceB_props)\n",
    "    \n",
    "print(\"\\nDice A seems to be fair, since the proportion for most numbers is close to 1/6.\\n\")  \n",
    "print(\"Dice B seems to be NOT fair, since the proportions for 1, 2 and 3 are around 0.1, \")\n",
    "print(\"       while the proportions for the larger numbers 4, 5 and 6 are all greater than 0.2.\")  \n",
    "\n",
    "\n"
   ]
  },
  {
   "cell_type": "markdown",
   "metadata": {},
   "source": [
    "## D"
   ]
  },
  {
   "cell_type": "markdown",
   "metadata": {},
   "source": [
    "## D (i)\n",
    "- Create a dictionary named first_score_larger_3_dic where each key is the student ID and each value is the first roll at which each student scores a number larger than 3. \n",
    "- Use only the data in complete_data_dic. For the four students with the lowest IDs, print their keys and values in two separate lists."
   ]
  },
  {
   "cell_type": "code",
   "execution_count": 10,
   "metadata": {},
   "outputs": [
    {
     "name": "stdout",
     "output_type": "stream",
     "text": [
      "['student2', 'student4', 'student5', 'student6']\n",
      "[4, 1, 2, 3]\n"
     ]
    }
   ],
   "source": [
    "# Method 1: checking all throws, and extracting first throw > 3\n",
    "first_score_larger_3_dic=dict()\n",
    "for i in complete_data_dic.keys():\n",
    "    # logical vector with a TRUE entry if a throw is larger than three, and FALSE otherwise    \n",
    "    throws_larger_three=[x>3 for x in complete_data_dic[i] ]\n",
    "    # indices of TRUE entries in throws_larger_three\n",
    "    indices_of_throws_larger_three=[i for i,x in enumerate(throws_larger_three) if x] \n",
    "    # add first throw larger than three to dictionary\n",
    "    first_score_larger_3_dic[i]=indices_of_throws_larger_three[0]+1 \n",
    "\n",
    "#print(complete_data_dic)\n",
    "#print(list(first_score_larger_3_dic.keys())[:4])\n",
    "#print(list(first_score_larger_3_dic.values())[:4])\n",
    "\n",
    "\n",
    "# Method 2: using next, which stops iterating when condition satisfied; for a nice discussion, see\n",
    "# https://stackoverflow.com/questions/2361426/get-the-first-item-from-an-iterable-that-matches-a-condition\n",
    "#create dictionary to store indices for first throws larger than 3\n",
    "first_score_larger_3_dic = {}\n",
    "# run through complete_data_dic\n",
    "for idstr, throw in complete_data_dic.items():\n",
    "    # find the first index using next;\n",
    "    # returns i+1 if throw[i] > 3; use i+1 since Python counts from zero\n",
    "    first_index_larger_than_3 = next((i+1 for i in range(len(throw)) if throw[i] > 3), None)\n",
    "    # save the index with the appropriate key/id\n",
    "    first_score_larger_3_dic[idstr] = first_index_larger_than_3\n",
    "\n",
    "# print the keys and values separately\n",
    "print(list(first_score_larger_3_dic.keys())[:4])\n",
    "print(list(first_score_larger_3_dic.values())[:4])"
   ]
  },
  {
   "cell_type": "markdown",
   "metadata": {},
   "source": [
    "## D (ii)\n",
    "- Print the first four entries of a vector showing the order in which students rolled a number higher than 3 (from first to last). \n",
    "- Ties should be included in numerical order based on student number (lowest to highest)."
   ]
  },
  {
   "cell_type": "code",
   "execution_count": 8,
   "metadata": {},
   "outputs": [
    {
     "name": "stdout",
     "output_type": "stream",
     "text": [
      "['student4', 'student10', 'student11', 'student13']\n"
     ]
    }
   ],
   "source": [
    "import operator\n",
    "\n",
    "# creates a dictionary, which uses the 'sorted' function to extract the keys \n",
    "# in sorted order of first_score_larger_3_dict; need the itemgetter function from operator module\n",
    "sorted_by_first_throw_dict = dict(sorted(first_score_larger_3_dic.items(), key=operator.itemgetter(1)) )\n",
    "\n",
    "# print the required output\n",
    "print(list(sorted_by_first_throw_dict.keys())[:4] )"
   ]
  }
 ],
 "metadata": {
  "kernelspec": {
   "display_name": "Python 3 (ipykernel)",
   "language": "python",
   "name": "python3"
  },
  "language_info": {
   "codemirror_mode": {
    "name": "ipython",
    "version": 3
   },
   "file_extension": ".py",
   "mimetype": "text/x-python",
   "name": "python",
   "nbconvert_exporter": "python",
   "pygments_lexer": "ipython3",
   "version": "3.11.4"
  }
 },
 "nbformat": 4,
 "nbformat_minor": 4
}
